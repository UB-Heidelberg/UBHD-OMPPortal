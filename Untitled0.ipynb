{
 "metadata": {
  "name": ""
 },
 "nbformat": 3,
 "nbformat_minor": 0,
 "worksheets": [
  {
   "cells": [
    {
     "cell_type": "code",
     "collapsed": false,
     "input": [
      "email_text ={   \"1\": {\n",
      "                    \"de\":\"empfiehlt Ihnen aus dem Verlagsprogramm von Heidelberg University Publishing\",\n",
      "                    \"en\":\"recommends you this book, published by Heidelberg University Publishing\"\n",
      "                    },\n",
      "                \"2\":{\n",
      "                    \"de\":\"empfiehlt Ihnen aus dem Verlagsprogramm von heiBOOKS, der E-Book-Plattform der Universit\u00e4tsbibliothek Heidelberg\",\n",
      "                    \"en\":\"recommends you {cleanTitle} published by heiBOOKS, the e-book platform of the Heidelberg University Library\"\n",
      "                    },\n",
      "                \"3\":{\n",
      "                    \"de\":\"empfiehlt Ihnen aus dem Programm von CrossAsia-eBooks, der Open-Access-Publikationsplattform f\u00fcr E-Books von CrossAsia\",\n",
      "                    \"en\":\"recommends to you the following book published by CrossAsia-eBooks\"\n",
      "                    },\n",
      "                \"4\":{\n",
      "                    \"de\":\"empfiehlt Ihnen aus dem Angebot von arthistoricum.net \u2013 ART-Books\",\n",
      "                    \"en\":\"recommends the following title from the publisher\u2019s list of arthistoricum.net \u2013 ART-Books\"\n",
      "                    },\n",
      "                \"6\":{\n",
      "                    \"de\":\"empfiehlt Ihnen aus dem Angebot von Propylaeum \u2013 Propylaeum\u2013eBOOKS\",\n",
      "                    \"en\":\"recommends the following title from the publisher\u2019s list of Propylaeum \u2013 Propylaeum\u2013eBOOKS\"\n",
      "                    },\n",
      "            }\n",
      "s=1\n",
      "email_text.get(s)[\"en\"]\n"
     ],
     "language": "python",
     "metadata": {},
     "outputs": [
      {
       "ename": "TypeError",
       "evalue": "'NoneType' object has no attribute '__getitem__'",
       "output_type": "pyerr",
       "traceback": [
        "\u001b[0;31m---------------------------------------------------------------------------\u001b[0m\n\u001b[0;31mTypeError\u001b[0m                                 Traceback (most recent call last)",
        "\u001b[0;32m<ipython-input-9-9b67853625d1>\u001b[0m in \u001b[0;36m<module>\u001b[0;34m()\u001b[0m\n\u001b[1;32m     21\u001b[0m             }\n\u001b[1;32m     22\u001b[0m \u001b[0ms\u001b[0m\u001b[0;34m=\u001b[0m\u001b[0;36m1\u001b[0m\u001b[0;34m\u001b[0m\u001b[0m\n\u001b[0;32m---> 23\u001b[0;31m \u001b[0memail_text\u001b[0m\u001b[0;34m.\u001b[0m\u001b[0mget\u001b[0m\u001b[0;34m(\u001b[0m\u001b[0ms\u001b[0m\u001b[0;34m)\u001b[0m\u001b[0;34m[\u001b[0m\u001b[0;34m\"en\"\u001b[0m\u001b[0;34m]\u001b[0m\u001b[0;34m\u001b[0m\u001b[0m\n\u001b[0m",
        "\u001b[0;31mTypeError\u001b[0m: 'NoneType' object has no attribute '__getitem__'"
       ]
      }
     ],
     "prompt_number": 9
    },
    {
     "cell_type": "code",
     "collapsed": false,
     "input": [],
     "language": "python",
     "metadata": {},
     "outputs": []
    }
   ],
   "metadata": {}
  }
 ]
}